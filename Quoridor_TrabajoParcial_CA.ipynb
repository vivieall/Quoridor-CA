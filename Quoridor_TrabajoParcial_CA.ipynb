{
  "nbformat": 4,
  "nbformat_minor": 0,
  "metadata": {
    "colab": {
      "name": "Quoridor-TrabajoParcial-CA.ipynb",
      "provenance": [],
      "collapsed_sections": []
    },
    "kernelspec": {
      "name": "python3",
      "display_name": "Python 3"
    }
  },
  "cells": [
    {
      "cell_type": "markdown",
      "metadata": {
        "id": "iwJAY403zrc7"
      },
      "source": [
        "##CC184 - Complejidad Algorítmica - UPC\n",
        "  Avance Trabajo Parcial: Quoridor\n",
        "\n",
        "#Profesor\n",
        "  González Valenzuela Ricardo Eugenio\n",
        " \n",
        "#Integrantes\n",
        "  - Paola Viviana Angeles Lliuya - <b>U20191A919</b>\n",
        "\n",
        "  - Angel Gustavo Chuco Michel\n",
        "\n",
        "  - Richard Abel Avendaño Pillaca  \n",
        "\n",
        "## INTRODUCCIÓN\n",
        "\t\n",
        "> El presente trabajo parcial, pertenece al avance del trabajo final del curso de Complejidad Algorítimica. Este proyecto consiste en el desarrollo del videojuego “Quoridor”, el cual será realizado en el lenguaje Python. Asímismo, incluye la metodología de la solución a implementarse, y en este caso, se hará uso de técnicas de programación y algoritmos como Backtracking, DFS (Búsqueda en profundidad) y Dijkstra.\n",
        "\n",
        "> El objetivo de adquirir esta curva de aprendizaje es para obtener resultados óptimos en el proceso de desarrollo e implementación de programas. El presente trabajo se desarrolla de manera grupal, conformado con 3 integrantes, y se utilizó fuentes de información para el avance del mismo. Posteriormente se continuará con la codificación e implementación del juego, haciendo uso de las clases y métodos definidos previamente.\n",
        "A continuación se detalla en qué consiste el juego, su jugabilidad y sus reglas. Asimismo, los procesos de los algoritmos a implementar y por qué fueron seleccionados solo algunos algoritmos específicos.\n",
        "\n",
        "\n",
        "##ESTADO DEL ARTE\n",
        "\n",
        "> Se tiene conocimiento que desde hace ya décadas los juegos en la computadora han sido de gran éxito, evolucionando no solo en parte gráfica (interfaz del usuario) sino también en la lógica y complejidad que se le puede asignar al juego. \n",
        "\n",
        "> “Tennis For Two”, del año 1958, fue el primer videojuego patentado en la historia y desarrollado en una computadora, desarrollado por el físico William Higinbotham. Este juego consistía en un campo en donde se presenta una línea horizontal en el borde inferior del monitor, y una línea vertical que funcionaba como una especie de  red. De cada lado, un jugador golpeaba una bola, determinando el ángulo de lanzamiento. Además, el juego permitía determinar la altura de la red y la longitud del campo.\n",
        "\n",
        ">Por otro lado, Quoridor, es un juego francés abstracto estratégico creado por Mirko Marchesi ganador de un premio Mensa Mind Game en 1997 (Academic, s.f.). Pueden jugar de 2 o 4 jugadores. Cada jugador maneja un peón y una serie de barreras. Si juegan cuatro jugadores, se repartirán 5 barreras a cada uno y  si juegan dos, 10 barreras a cada uno.\n",
        "\n",
        "\n",
        ">El objetivo de este juego es llegar con su peón a su  lado opuesto antes de que lo hagan los contrarios. En tu turno tienes dos opciones, o mover una casilla en horizontal o vertical, nunca en diagonal o colocar una barrera. Las barreras siempre ocupan dos espacios y se pueden tocar unas con otras formando muros. Una vez puestas no puedes moverlas así que hay que tener ojo para administrarlas correctamente. Tampoco puedes encerrar completamente a los adversarios así que siempre tienes que dejarle una salida para que pueda alcanzar su lado deseado.\n",
        "\n",
        "\n",
        ">Cabe mencionar que existen otros juegos de los cuales se implementan estas técnicas de programación, como por ejemplo Katamino o el famoso Tetris u otros, y sea cual sea el lenguaje de programación en la que sea desarrollado, se hace uso de estos conceptos para una optimización en su funcionamiento en tiempo y rendimiento. \n",
        "\n",
        "\n",
        "##A continuación se describe los algoritmos a usar y posteriormente a implementar en el juego de quaridor. \n",
        "\n",
        "\t\n",
        ">Muchos algoritmos o programas que hacen uso de técnicas como la fuerza bruta, indican que ha sido diseñado para la capacidad de encontrar la solución a cualquier problema por complejo que sea. Y lo logra probando todas las posibles combinaciones, es decir, recorre todos los caminos hasta hallar la solución, indistintamente si recorrió o inicio en caminos erróneos con tal de llegar a probar todas los caminos de posibles soluciones hasta dar con el mismo, pero este causa un tiempo de respuesta muy lento, tardando en procesar los datos ingresados, por lo cual es el último algoritmo al que se le puede asignar como principal.\n",
        "\n",
        ">Backtracking es un algoritmo que usa la siguiente estrategia para resolver problemas: busca todas las posibles soluciones que existan teniendo en cuenta diferentes restricciones planteadas. Esto ayuda a tener un conjunto de posibles soluciones o también podríamos llamarlas múltiples alternativas para resolver el problema. Por un lado, DFS o Búsqueda en Profundida es un algoritmo de búsqueda que recorre todos los nodos de un árbol de manera ordenada, expande la búsqueda en las ramas de cada nodo partiendo desdela raíz, y cuando ya no quedan más nodos por recorrer en dicho camino retorna, siendo aquí donde se hace uso del Backtracking, es decir, da “vuelta atrás” para encontrar recorrer el camino hasta dar con la solución.\n",
        "\n",
        ">Por otro lado, se encuentra el algoritmo Dijsktra, la idea subyacente de este algoritmo es examinar todos los caminos más cortos que comienzan desde el vértice de origen y conducen al resto de ellos. Cuando se obtiene dicha ruta, el algoritmo se detiene. Es una especialización de la búsqueda de costo unificado y por lo tanto no funciona en gráficos con bordes de costo negativos (al seleccionar siempre el nodo con la distancia más cercana, los nodos pueden ser excluidos de la búsqueda que reducirían el costo total de la carretera en futuras iteraciones al pasar uno negativo ventaja de costos).\n",
        "\n",
        ">La razón para emplear el algoritmo de Dijkstra yace en la función principal que cumple, la cual, en resumen, busca la ruta más óptima entre dos coordenadas dentro de un plano bidimensional. En efecto, implementar este conjunto de instrucciones en el juego Quoridor permite crear un bot que analice todos los caminos posibles y opte por el camino más eficiente y eficaz.\n",
        "\n",
        ">Asimismo, hemos planteado el algoritmo de backtracking como una herramienta que nos ayude a determinar un arreglo con posibles movimientos. Este planteamiento se da, ya que  se necesita reaccionar ante un movimiento del oponente, el algoritmo mostrará alternativas sobre los posibles escenarios a los que puede inclinarse para concluir satisfactoriamente el juego. Entonces, se plantea  que las restricciones para formar el algoritmo será que muestre una secuencia de pasos para llegar a la ubicación opuesta menor que la del oponente.\n",
        "\n",
        ">Por último, en el análisis de la solución se hallaron distintos métodos de implementación, y posterior a ello se hizo otro análisis de qué técnicas se adecuan a una optimización en el desempeño del funcionamiento del juego, un desarrollo de códigos no tan complejo y con una búsqueda y resultado del patrón en un tiempo O(n) para poder implementarlo como técnica en la participación del bot (jugador computadora).\n",
        " \t\t\t\t\t\t\t\n",
        ">Hasta la presentación del presente avance, se ha definido la metodología del proyecto, la cual dará paso a su estructura en el código. Asimismo, se requiere de una mayor curva de aprendizaje para su completa implementación, la cual se irá adquiriendo en las siguientes semanas posteriores.\n",
        "\n",
        "##BIBLIOGRAFÍA O REFERENCIAS\n",
        " \t\t\t\t\t\t\n",
        ">Banerjee, N. y Sankardeep R . (2016). Improved Space Efficient Algorithms for BFS, DFS and Applications.\n",
        "\n",
        ">Hunt, J. (2019). Building Games with PyGame. \n",
        "\n",
        ">Nam, N. (2012). Quoridor complete Tutorial. https://youtu.be/KcuBheYqdjs \n",
        "\n",
        ">Pedraza, L., López, D., & Salcedo Con-Ciencias, O. (n.d.). Retrieved September 20, 2020, from http://www.scielo.org.co/pdf/tecn/v15n30/v15n30a10.pdf\n",
        "\n",
        ">Quoridor Post | Juegos de mesa, juegos de estrategia y puzzles en Madrid | Cuarto de Juegos. (2010). https://www.cuartodejuegos.es/index.php/quoridor/\n",
        "\n",
        ">Quoridor. (2010). Los Diccionarios y Las Enciclopedias Sobre El Académico. https://esacademic.com/dic.nsf/eswiki/978850\n"
      ]
    },
    {
      "cell_type": "code",
      "metadata": {
        "id": "QQRDBSaircSM"
      },
      "source": [
        ""
      ],
      "execution_count": null,
      "outputs": []
    }
  ]
}