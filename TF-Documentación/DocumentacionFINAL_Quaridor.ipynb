{
  "nbformat": 4,
  "nbformat_minor": 0,
  "metadata": {
    "language_info": {
      "codemirror_mode": {
        "name": "ipython",
        "version": 3
      },
      "file_extension": ".py",
      "mimetype": "text/x-python",
      "name": "python",
      "nbconvert_exporter": "python",
      "pygments_lexer": "ipython3",
      "version": "3.8.6-final"
    },
    "orig_nbformat": 2,
    "kernelspec": {
      "name": "Python 3.8.6 64-bit",
      "display_name": "Python 3.8.6 64-bit",
      "metadata": {
        "interpreter": {
          "hash": "9fec89a90ed77f49c1134976b7c3a9caf1cd518d90d5b87d0fcc627f9893d3cf"
        }
      }
    },
    "colab": {
      "name": "DocumentacionFINAL_Quaridor.ipynb",
      "provenance": [],
      "collapsed_sections": []
    }
  },
  "cells": [
    {
      "cell_type": "markdown",
      "metadata": {
        "collapsed": false,
        "id": "hNUYaGjpwoii"
      },
      "source": [
        "\n",
        "![alt text](https://www.laureate.net/wp-content/uploads/2019/03/10-UPC-Universidad-Peruana-de-Ciencias-Aplicadas.png)\n",
        "# **CC184 - Complejidad Algorítmica - UPC**\n",
        "\n",
        "#  <b>Trabajo Final: Quoridor</b>\n",
        "\n",
        "## Profesor\n",
        "Ricardo Eugenio González Valenzuela \n",
        "\n",
        "# Integrantes\n",
        "  - Paola Viviana Angeles Lliuya - <b>U20191A919</b>\n",
        "\n",
        "  - Angel Gustavo Chuco Michel - <b>U201613694</b>\n",
        "\n",
        "  - Richard Abel Avendaño Pillaca - <b>U201824310</b>\n",
        "\n",
        "\n",
        "---\n",
        "\n",
        "\n",
        "## INTRODUCCIÓN\n",
        "\n",
        "> El presente trabajo parcial, pertenece al avance del trabajo final del curso de Complejidad Algorítimica. Este proyecto consiste en el desarrollo del videojuego “Quoridor”, el cual será realizado en el lenguaje Python. Asímismo, incluye la metodología de la solución a implementarse, y en este caso, se hará uso de técnicas de programación y algoritmos como Búsqueda Heurística, Minimo-Máximo y BFS .\n",
        "\n",
        "> El objetivo de adquirir esta curva de aprendizaje es para obtener resultados óptimos en el proceso de desarrollo e implementación de programas. El presente trabajo se desarrolla de manera grupal, conformado con 3 integrantes, y se utilizó fuentes de información para el avance del mismo. Posteriormente se ha continuado con la codificación e implementación del juego, haciendo uso de las clases y métodos definidos previamente.\n",
        "A continuación se detalla en qué consiste el juego, su jugabilidad y sus reglas. Asimismo, los procesos de los algoritmos a implementar y por qué fueron seleccionados solo algunos algoritmos específicos.\n",
        "\n",
        "\n",
        "\n",
        "---\n",
        "\n",
        "\n",
        "## ESTADO DEL ARTE\n",
        "\n",
        "> Se tiene conocimiento que desde hace ya décadas los juegos en la computadora han sido de gran éxito, evolucionando no solo en parte gráfica (interfaz del usuario) sino también en la lógica y complejidad que se le puede asignar al juego.\n",
        "\n",
        "> “Tennis For Two”, del año 1958, fue el primer videojuego patentado en la historia y desarrollado en una computadora, desarrollado por el físico William Higinbotham. Este juego consistía en un campo en donde se presenta una línea horizontal en el borde inferior del monitor, y una línea vertical que funcionaba como una especie de  red. De cada lado, un jugador golpeaba una bola, determinando el ángulo de lanzamiento. Además, el juego permitía determinar la altura de la red y la longitud del campo.\n",
        "\n",
        ">Por otro lado, Quoridor, es un juego francés abstracto estratégico creado por Mirko Marchesi ganador de un premio Mensa Mind Game en 1997 (Academic, s.f.). Pueden jugar de 2 o 4 jugadores. Cada jugador maneja un peón y una serie de barreras. Si juegan cuatro jugadores, se repartirán 5 barreras a cada uno y  si juegan dos, 10 barreras a cada uno.\n",
        "\n",
        "# ![quoridor game](http://cuartodejuegos.es/wp-content/uploads/2010/04/Quoridor_box.jpg)\n",
        "\n",
        ">El objetivo de este juego es llegar con su peón a su lado opuesto antes de que lo hagan los contrarios. En tu turno tienes dos opciones, o mover una casilla en horizontal o vertical, nunca en diagonal o colocar una barrera. Las barreras siempre ocupan dos espacios y se pueden tocar unas con otras formando muros. Una vez puestas no puedes moverlas así que hay que tener ojo para administrarlas correctamente. Tampoco puedes encerrar completamente a los adversarios así que siempre tienes que dejarle una salida para que pueda alcanzar su lado deseado.\n",
        "\n",
        "\n",
        ">Cabe mencionar que existen otros juegos de los cuales se implementan estas técnicas de programación, como por ejemplo Katamino o el famoso Tetris u otros, y sea cual sea el lenguaje de programación en la que sea desarrollado, se hace uso de conceptos complejos para una optimización en su funcionamiento en tiempo y rendimiento.\n",
        "\n",
        "\n",
        "## A continuación se describe los algoritmos y tecnlogias a usar y posteriormente a implementar en el juego de quaridor.\n",
        "\n",
        ">El proyecto a realizar estará en el entorno de desarrollo de PyCharm, como interprete inicalmente se buscó trabajar en la versión 3.8, por ser la más reciente. Sin embargo, al momento de trabajar en conjunto y unir partes del proyecto se presentarón errores, dichos errores eran causados por los diferentes S.O. manejados por los integrantes. Por ello, se utilizará la verisión 2.7 al ser la más estable para nuestro proyecto.\n",
        "\n",
        ">Muchos algoritmos o programas que hacen uso de técnicas como la fuerza bruta, indican que ha sido diseñado para la capacidad de encontrar la solución a cualquier problema por complejo que sea. Y lo logra probando todas las posibles combinaciones, es decir, recorre todos los caminos hasta hallar la solución, indistintamente si recorrió o inicio en caminos erróneos con tal de llegar a probar todas los caminos de posibles soluciones hasta dar con el mismo, pero este causa un tiempo de respuesta muy lento, tardando en procesar los datos ingresados, por lo cual es el último algoritmo al que se le puede asignar como principal. En base a eso se plantearon tres algoritmos que cumplen con la eficiencia y eficacia requerida.\n",
        "\n",
        ">La Búsqueda BFS es un algoritmo que consiste en añadir información, en base a un espacio estudiado, es decir se necesita información sobre la proximidad de cada estado a un estado objetivo, lo que permite explorar en primer lugar los caminos más eficientes y eficaces. En general, los métodos heurísticos son preferibles a los métodos no informados en la solución de problemas difíciles para los que una busqueda exhaustiva necesitaría un tiempo demasiado grande.\n",
        "\n",
        ">El algoritmo Mínimo-Máximo es un método de decisión para minimizar la pérdida máxima esperada en juegos con adversarios y con información perfecta. realiza su lógica inicialmente creando un árbol, generando nodos hasta llegar al final. Luego, calcula los valores de funcionalidad para cada nodo terminal, es decir para realiza calculos de los nodos superiores mediante los nodos inferiores. Para finalmente, elegir la mejor jugada de los nodos que han logrado llegar al nivel superior. Este algoritmo juega un papel primordial para la implementación de las paredes en nuestro juego.\n",
        "\n",
        ">El algoritmo Búsqueda en anchura o en por su traducción al inglés Breadth First Search(BFS) es, como su nombre lo dice, un método de busqueda utilizado para encontrar elementos en un grafo. El procedimiento que sigue esta busqueda es: Parte del vertice actual, y recorre todos los vertices alcanzables. Luego, calcula la menor distancia desde el punto inicial a todos los vertices finales. Finalmente, crea un árbol que contiene todos los vertices explorados siendo estos la ruta más eficiente a su propio destino.\n",
        "\n",
        ">El algoritmo de Dijkstra, tambien llamado algoritmo de caminos mínimos, es un algoritmo para la determinación del camino más corto, este algoritmo cumple una función especial en la resolución de proyectos. Inicialmente, el algoritmo consiste en ir explorando todos los caminos más cortos que parten del vértice origen y que llevan a todos los demás vértices. Luego, cuando se obtiene el camino más corto desde el vértice origen hasta el resto de los vértices que componen el grafo, este se detiene.\n",
        "\n",
        ">Por último, se hallaron distintos métodos de implementación, y posterior a ello se hizo otro análisis para filtrar los mejores algoritmos y técnicas que se adecuan a una optimización en el desempeño del funcionamiento del juego, un desarrollo de códigos no tan complejo y con una búsqueda y resultado del patrón en un tiempo O(n) para poder implementarlo como técnica en la participación del bot (jugador computadora).\n",
        "\n",
        "\n",
        "---\n",
        "\n",
        "\n"
      ]
    },
    {
      "cell_type": "markdown",
      "metadata": {
        "id": "9slczuBKwoio"
      },
      "source": [
        "# Algoritmos usados\n",
        "![alt text](https://www.lawebdelprogramador.com/usr/201000/201039/profileImage_origin.png?1463763019)"
      ]
    },
    {
      "cell_type": "markdown",
      "metadata": {
        "id": "NT0x53cLwoir"
      },
      "source": [
        "# QUORIDOR\n"
      ]
    },
    {
      "cell_type": "markdown",
      "metadata": {
        "id": "IlQ778ntwoi7"
      },
      "source": [
        "## Implementación de BFS\n",
        "Útil para determinar todos los caminos disponibles.\n",
        "\n",
        "![alt text](http://alexvolov.com/wp-content/uploads/2015/02/bfs_2.png)\n",
        "\n",
        "Si bien se tiene un camino recto cuando no hay obstáculos, su uso es esencial una vez se encuentren implementados los muros.\n",
        "\n",
        "##Parámetros\n",
        "\n",
        ">El algoritmos BFS nos permitirá encontrar el camino más corto entre dos puntos del tablero. Para ellos se usaran 3 parametros para la prueba, en ella se encuentra el inicio, fin y el lugar de busqueda.\n",
        "\n",
        ">Para ello usaremos como lugar de busqueda una matriz creada con la inicialización de una clase "
      ]
    },
    {
      "cell_type": "code",
      "metadata": {
        "id": "VAq4M5Nxwoi-"
      },
      "source": [
        "  class Tablero():\n",
        "    def __init__(self):\n",
        "        self.root = None\n",
        "        self.canvas = None\n",
        "        self.width = 0\n",
        "        self.height = 0\n",
        "        self.jugadores = [None, None]\n",
        "        self.casillas = []\n",
        "        self.paredes = {}\n",
        "        self.movimiento = None\n",
        "        self.jugador_sombra = None\n",
        "        self.pared_sombra = None\n",
        "        self.turno = 0\n",
        "        self.regla = None\n",
        "        self.bot_cont = '0'\n",
        "        self.pared_elementos = [None, None]\n",
        "        self.actual_elemento = None\n",
        "        for _ in range(NUM_COLUMNS):\n",
        "            self.casillas.append(list(range(NUM_FILAS)))\n"
      ],
      "execution_count": null,
      "outputs": []
    },
    {
      "cell_type": "markdown",
      "metadata": {
        "id": "J1tevPGhkMSc"
      },
      "source": [
        "##Uso\n",
        ">Este algoritmos fue utilizado para recorrer el tablero y poder obtener la ruta optima."
      ]
    },
    {
      "cell_type": "markdown",
      "metadata": {
        "id": "Kms_VzuGhjCt"
      },
      "source": [
        "\n",
        "##Descripción\n",
        ">Despuesta de pasarle 3 parametros al algoritmos(inicio, fin y tablero). BFS recorrerá todos los nodos hasta encontrar la ruta más optima del inicio al final en el tablero.\n",
        "\n",
        "\n"
      ]
    },
    {
      "cell_type": "code",
      "metadata": {
        "id": "8sD81AHjw9Xb"
      },
      "source": [
        "#Algoritmo BFS (Breadth-First Search)\n",
        "def bfs(inicio, fin, tablero):\n",
        "    frontera = []\n",
        "    visitado = set()\n",
        "    frontera.append(inicio)\n",
        "    visitado.add(inicio)\n",
        "    while frontera != []:\n",
        "        padre = frontera.pop(0)\n",
        "        if (padre == fin):\n",
        "            return True\n",
        "\n",
        "        hijos = get_sucesores(padre)\n",
        "        for hijo in hijos:\n",
        "            if not (hijo in visitado):\n",
        "                if not bloqueado(hijo[0], hijo[1], padre[0], padre[1], tablero):\n",
        "                    frontera.append(hijo)\n",
        "                    visitado.add(hijo)\n",
        "    return False\n",
        "    \n",
        "  #Funcion que halla el caminito (el tamanio mas minimo)\n",
        "  def minCaminoLen(x, y, win_fila, estado):\n",
        "    minCamino = maxsize\n",
        "    for end in win_fila:\n",
        "        camino_len = busqueda.camino((x, y), end, estado)\n",
        "        if camino_len < minCamino:\n",
        "            minCamino = camino_len\n",
        "    return minCamino"
      ],
      "execution_count": null,
      "outputs": []
    },
    {
      "cell_type": "markdown",
      "metadata": {
        "id": "ZYBRxE56wojH"
      },
      "source": [
        "### Test del algoritmo BFS"
      ]
    },
    {
      "cell_type": "markdown",
      "metadata": {
        "pycharm": {
          "name": "#%% md\n"
        },
        "id": "UxnBC_FSwojI"
      },
      "source": [
        "Corriendo en el tiempo algoritmos.. BFS\n",
        "\n",
        "instancia    tiempo   \n",
        "  0           0.00688099861145    \n",
        "  1           0.0136601924896    \n",
        "  2           0.0180559158325    \n",
        "  3           0.0294570922852    \n",
        "  4           0.0486888885498    \n",
        "  5           0.111295938492    \n",
        "  6           0.0831129550934    \n",
        "  7           0.162600040436    \n",
        "  8           0.165167093277 \n"
      ]
    },
    {
      "cell_type": "code",
      "metadata": {
        "id": "PVV3JRlpwojJ",
        "colab": {
          "base_uri": "https://localhost:8080/",
          "height": 278
        },
        "outputId": "6b62c374-fecb-4f23-b672-7190298a1087"
      },
      "source": [
        "tiempos=[0.00688099861145,0.0136601924896,0.0180559158325,0.0294570922852,0.0486888885498,0.111295938492,0.0831129550934,0.162600040436,0.165167093277]\n",
        "\n",
        "import matplotlib.pyplot as plt\n",
        "plt.plot(tiempos)\n",
        "plt.ylabel('tiempos')\n",
        "plt.xlabel('nodos')\n",
        "plt.show()"
      ],
      "execution_count": null,
      "outputs": [
        {
          "output_type": "display_data",
          "data": {
            "image/png": "[encoded data removed]",
            "text/plain": [
              "<Figure size 432x288 with 1 Axes>"
            ]
          },
          "metadata": {
            "tags": [],
            "needs_background": "light"
          }
        }
      ]
    },
    {
      "cell_type": "markdown",
      "metadata": {
        "id": "MV_Ny532hlK2"
      },
      "source": [
        "##Conclusiones \n",
        "\n",
        "Ya que la complejidad del algoritmo depende del tamaño de busqueda, en este caso el tablero, se infiere que su complejidad es O(n), donde n está compuesta por el número de vertices más el número de aristas. En el peor de los casos el agoritmo visitará todos los vertices y aristas del grafo.\n",
        "\n",
        "---\n"
      ]
    },
    {
      "cell_type": "markdown",
      "metadata": {
        "id": "u3fEOb-GIgqx"
      },
      "source": [
        "## Implementación del algoritmo minimax\n",
        "Algoritmo que elije el mejor movimiento para el bot computadora,\n",
        "suponiendo que el oponente escogerá uno que lo pueda perjudicar.\n",
        "\n",
        "![alt text](https://s3-us-west-2.amazonaws.com/devcodepro/media/tutorials/algoritmo-minimax-t1.png)\n",
        "\n",
        "\n",
        "##Parámetros\n",
        "\n",
        ">El algoritmos Minimax encuentra todos los posibles escenarios en un espacio de busqueda predeterminado, este algoritmos esta basado en backtracking. para el uso de este algoritmo se usa un nodo que necesita 4 parametros que son el número del jugador, estado, tipo de movimiento, coordenada x y coordenada y.\n"
      ]
    },
    {
      "cell_type": "code",
      "metadata": {
        "id": "0j7HEfp-qELF"
      },
      "source": [
        "class Node:\n",
        "    def __init__(self, jugador_num, regla, movimiento_type, pared=None, movimientoX=None, movimientoY=None):\n",
        "        self.movimiento_type = movimiento_type\n",
        "        self.pared = pared\n",
        "        self.movimientoX = movimientoX\n",
        "        self.movimientoY = movimientoY\n",
        "        self.jugador_num = jugador_num\n",
        "        new_regla = copy.deepcopy(regla)\n",
        "        if self.movimiento_type == \"movimiento\":\n",
        "            new_regla.jugadores[self.jugador_num].x = self.movimientoX\n",
        "            new_regla.jugadores[self.jugador_num].y = self.movimientoY\n",
        "        else:\n",
        "            new_regla.jugadores[self.jugador_num].colocar_pared(\n",
        "                new_regla, self.pared)\n",
        "\n",
        "        self.regla = new_regla\n",
        "        self.opp_num = new_regla.jugadores[self.jugador_num].opp\n",
        "\n",
        "    def hijos(self, maximizingJugador):\n",
        "        hijos = []\n",
        "        oponente_posible_movimientos = self.regla.jugadores[self.opp_num].posibleMovimientos(\n",
        "            self.regla, True)\n",
        "        oponente_posible_paredes = self.regla.jugadores[self.jugador_num].posibleParedes(\n",
        "            self.regla, True)\n",
        "        for m in oponente_posible_movimientos:\n",
        "            node = Node(self.opp_num, self.regla, \"movimiento\", None, m.x, m.y)\n",
        "            hijos.append(node)\n",
        "        for w in oponente_posible_paredes:\n",
        "            hijos.append(Node(self.opp_num, self.regla, \"pared\", w))\n",
        "        return hijos\n"
      ],
      "execution_count": null,
      "outputs": []
    },
    {
      "cell_type": "markdown",
      "metadata": {
        "id": "A2f_YUvJqIx2"
      },
      "source": [
        "##Uso\n",
        "Este algoritmo se utilizo que el bot decida el camino más corto a una ruta dada y almacenar la información obtenida.\n"
      ]
    },
    {
      "cell_type": "code",
      "metadata": {
        "id": "Q6GKt7Blsozt"
      },
      "source": [
        "#Algoritmo que reduce el numero de nodos evaluados en un arbol\n",
        "    def miniMax(self, node, depth, maximizingJugador):\n",
        "        if depth == 0 or self.ganadorMovimiento(node):\n",
        "            return self.heuristic(node, node.regla)\n",
        "\n",
        "        if maximizingJugador:\n",
        "            bestValue = minint\n",
        "            bestMovimiento = None\n",
        "            hijos = node.hijos(maximizingJugador)\n",
        "            for child in hijos:\n",
        "                v = self.miniMax(child, depth - 1, False)\n",
        "                bestValue = max(bestValue, v)\n",
        "            return bestValue\n",
        "\n",
        "        else:\n",
        "            bestValue = maxsize\n",
        "            hijos = node.hijos(maximizingJugador)\n",
        "            for child in hijos:\n",
        "                v = self.miniMax(child, depth - 1, True)\n",
        "                bestValue = min(bestValue, v)\n",
        "            return bestValue\n"
      ],
      "execution_count": null,
      "outputs": []
    },
    {
      "cell_type": "markdown",
      "metadata": {
        "id": "ZpJZGfqqqafB"
      },
      "source": [
        "##Descripción\n",
        "Despues de pasarle los parametros requeridos este, en base al punto de llegada, crea un árbol donde se buscará el valor minimo o máximo según se requiera. En este proyecto se tratá de optimizar la ruta optima. Por ello, el nodo obtenido cumplira con los requerimientos. Luego, mediante backtracking recorrera todas las ramas, almacenando la mejor ruta en un nodo que se devolverá para que el bot tome la decisión más adecuada."
      ]
    },
    {
      "cell_type": "code",
      "metadata": {
        "id": "_yw_mojJIr1v"
      },
      "source": [
        "class Minimax(BOT):\n",
        "    def __init__(self, num):\n",
        "        super(Minimax, self).__init__(num)\n",
        "\n",
        "    def finalMovimiento(self, regla):\n",
        "        movimientos = {}\n",
        "        posible_paredes = self.posibleParedes(regla)\n",
        "        posible_movimientos = self.posibleMovimientos(regla)\n",
        "\n",
        "        for m in posible_movimientos:\n",
        "            node = Node(self.jugador_num, regla, \"movimiento\", None, m.x, m.y)\n",
        "            movimientos[node] = self.miniMax(node, 0, True)\n",
        "        for w in posible_paredes:\n",
        "            node = Node(self.jugador_num, regla, \"pared\", w)\n",
        "            movimientos[node] = self.miniMax(node, 0, True)\n",
        "\n",
        "        movimiento = max(movimientos, key=movimientos.get)\n",
        "\n",
        "        if movimiento.movimiento_type == \"movimiento\":\n",
        "            self.movimiento(movimiento.movimientoX,\n",
        "                            movimiento.movimientoY, regla)\n",
        "        else:\n",
        "            self.colocar_pared(regla, movimiento.pared)\n",
        "\n",
        "    def miniMax(self, node, depth, maximizingJugador):\n",
        "        if depth == 0 or self.ganadorMovimiento(node):\n",
        "            return self.heuristic(node, node.regla)\n",
        "\n",
        "        if maximizingJugador:\n",
        "            bestValue = minint\n",
        "            bestMovimiento = None\n",
        "            hijos = node.hijos(maximizingJugador)\n",
        "            for child in hijos:\n",
        "                v = self.miniMax(child, depth - 1, False)\n",
        "                bestValue = max(bestValue, v)\n",
        "            return bestValue\n",
        "\n",
        "        else:\n",
        "            bestValue = maxsize\n",
        "            hijos = node.hijos(maximizingJugador)\n",
        "            for child in hijos:\n",
        "                v = self.miniMax(child, depth - 1, True)\n",
        "                bestValue = min(bestValue, v)\n",
        "            return bestValue\n",
        "\n",
        "    def ganadorMovimiento(self, node):\n",
        "        if node.movimiento_type == \"movimiento\":\n",
        "            if (node.movimientoX, node.movimientoY) in self.win_fila:\n",
        "                return True\n",
        "        return False\n",
        "\n",
        "    def heuristic(self, node, regla):\n",
        "        opp = regla.jugadores[self.opp]\n",
        "        if node.movimiento_type == \"movimiento\":\n",
        "            minMovimientoCamino = minCaminoLen(\n",
        "                node.movimientoX, node.movimientoY, self.win_fila, regla)\n",
        "            minOppCamino = minCaminoLen(opp.x, opp.y, self.opp_fila, regla)\n",
        "            return minOppCamino - minMovimientoCamino\n",
        "        else:\n",
        "            regla.paredes = regla.paredes + [node.pared]\n",
        "            minWinCamino = minCaminoLen(self.x, self.y, self.win_fila, regla)\n",
        "            minOppCamino = minCaminoLen(opp.x, opp.y, self.opp_fila, regla)\n",
        "            regla.paredes = regla.paredes[:-1]\n",
        "            return minOppCamino - minWinCamino\n",
        "\n"
      ],
      "execution_count": null,
      "outputs": []
    },
    {
      "cell_type": "markdown",
      "metadata": {
        "id": "pbMqwyGqDvqF"
      },
      "source": [
        "## Test de algoritmo Minimax"
      ]
    },
    {
      "cell_type": "code",
      "metadata": {
        "id": "9uOPxEqrDzGy",
        "colab": {
          "base_uri": "https://localhost:8080/"
        },
        "outputId": "96a03122-5455-4ce4-ee43-aefe32adf3ef"
      },
      "source": [
        "import math \n",
        "import time\n",
        "def minimax (curDepth, nodeIndex, \n",
        "             maxTurn, scores,  \n",
        "             targetDepth): \n",
        "\n",
        "    if (curDepth == targetDepth):  \n",
        "        return scores[nodeIndex] \n",
        "      \n",
        "    if (maxTurn): \n",
        "      v = minimax(curDepth + 1, nodeIndex * 2,False, scores, targetDepth)\n",
        "      u = minimax(curDepth + 1, nodeIndex * 2 + 1,False, scores, targetDepth)\n",
        "      return max(v,u) \n",
        "      \n",
        "    else:\n",
        "      v=minimax(curDepth + 1, nodeIndex * 2,True, scores, targetDepth)\n",
        "      u= minimax(curDepth + 1, nodeIndex * 2 + 1,True, scores, targetDepth)\n",
        "      return min(v,u) \n",
        "      \n",
        "# Driver code \n",
        "scores = [3, 5, 2, 9, 12, 5, 23, 23] \n",
        "\n",
        "treeDepth = math.log(len(scores), 2) \n",
        "print (treeDepth)\n",
        "print(f\"el valor optimo es { minimax(0, 0, True, scores, treeDepth)}\")"
      ],
      "execution_count": null,
      "outputs": [
        {
          "output_type": "stream",
          "text": [
            "3.0\n",
            "el valor optimo es 12\n"
          ],
          "name": "stdout"
        }
      ]
    },
    {
      "cell_type": "markdown",
      "metadata": {
        "id": "vE3oZpkYDnkx"
      },
      "source": [
        "tiempo   \n",
        "0.0032772336687360492\n",
        "\n",
        "0.024251431226730347\n",
        "\n",
        "0.07669480641682942 \n",
        "\n",
        "0.1744460429268322\n",
        "\n",
        "0.3340913715647228"
      ]
    },
    {
      "cell_type": "code",
      "metadata": {
        "colab": {
          "base_uri": "https://localhost:8080/",
          "height": 283
        },
        "id": "W5PSu4vSDi0M",
        "outputId": "2b177736-9623-4576-fbd0-c696402ca69e"
      },
      "source": [
        "tiempos=[0.0032772336687360492,0.024251431226730347,0.07669480641682942,0.1744460429268322,0.3340913715647228]\n",
        "\n",
        "import matplotlib.pyplot as plt\n",
        "plt.plot(tiempos)\n",
        "plt.ylabel('tiempos')\n",
        "plt.xlabel('nodos')\n",
        "plt.show()"
      ],
      "execution_count": null,
      "outputs": [
        {
          "output_type": "display_data",
          "data": {
            "image/png": "[encoded data removed]",
            "text/plain": [
              "<Figure size 432x288 with 1 Axes>"
            ]
          },
          "metadata": {
            "tags": [],
            "needs_background": "light"
          }
        }
      ]
    },
    {
      "cell_type": "markdown",
      "metadata": {
        "id": "HQOxrqTosHMm"
      },
      "source": [
        "##Conclusiones\n",
        "El algoritmo Minimax garantiza encontrar el movimiento más optimo de acuerdo a\n",
        "una función de evaluación establecida, una profundidad d fija y asumiendo que, a su vez, el jugador Min siempre juega de manera óptima. Entonces, la dificultad de este algoritmo se encuentra en niveles que tenga el árbol y la cantidad máxima de jugadas. Por ello se infiere que la complejidad es $O(w^n)$ donde w es el máximo  de jugadas posibles y n la profundidad de la busqueda.\n",
        "\n",
        "\n",
        "---\n"
      ]
    },
    {
      "cell_type": "markdown",
      "metadata": {
        "id": "UpS-ucp6xChu"
      },
      "source": [
        "## Implementación de dijkstra\n",
        "Útil para determinar el camino más corto\n",
        "\n",
        "![alt text](https://www.wextensible.com/temas/voraces/ejemplos/dijkstra.png)\n",
        "\n",
        "\n",
        "\n"
      ]
    },
    {
      "cell_type": "markdown",
      "metadata": {
        "id": "nfO-cxxSyDCW"
      },
      "source": [
        "##Parámetros\n",
        "Para hacer uso de este algoritmo se usará como parametro el inicio, fin y un tablero."
      ]
    },
    {
      "cell_type": "code",
      "metadata": {
        "id": "MRSLLXQayQ3Y"
      },
      "source": [
        "  class Tablero():\n",
        "    def __init__(self):\n",
        "        self.root = None\n",
        "        self.canvas = None\n",
        "        self.width = 0\n",
        "        self.height = 0\n",
        "        self.jugadores = [None, None]\n",
        "        self.casillas = []\n",
        "        self.paredes = {}\n",
        "        self.movimiento = None\n",
        "        self.jugador_sombra = None\n",
        "        self.pared_sombra = None\n",
        "        self.turno = 0\n",
        "        self.regla = None\n",
        "        self.bot_cont = '0'\n",
        "        self.pared_elementos = [None, None]\n",
        "        self.actual_elemento = None\n",
        "        for _ in range(NUM_COLUMNS):\n",
        "            self.casillas.append(list(range(NUM_FILAS)))"
      ],
      "execution_count": null,
      "outputs": []
    },
    {
      "cell_type": "markdown",
      "metadata": {
        "id": "NtB-tmlryRF6"
      },
      "source": [
        "##Uso\n",
        "Algortimo empleado para encontrar el camino más corto. "
      ]
    },
    {
      "cell_type": "markdown",
      "metadata": {
        "id": "_yrE5qb5y4ah"
      },
      "source": [
        "##Descripción\n",
        "Una vez que en el grafó este identificado los puntos de inicio y fin, el algoritmo empezará a trabajar buscando el camino más corto del punto de inicio al punto del final"
      ]
    },
    {
      "cell_type": "code",
      "metadata": {
        "id": "6eX2rbg5zfAN"
      },
      "source": [
        "#Algoritmo Dijkstra (Shortest Path First)\n",
        "def dijkstra(inicio, fin, tablero):\n",
        "\n",
        "        fila = len(fin)\n",
        "        columna = len(fin[0])\n",
        "        distancia = [float(\"Inf\")] * fila\n",
        "        padre = [-1] * fila\n",
        "        distancia[tablero] = 0\n",
        "        cola = []\n",
        "\n",
        "        for i in range(fila):\n",
        "            cola.append(i)\n",
        "\n",
        "        while cola:\n",
        "            u = inicio.minDistance(distancia, cola)\n",
        "            cola.remove(u)\n",
        "            for i in range(cola):\n",
        "                if fin[u][i] and i in cola:\n",
        "                    if distancia[u] + fin[u][i] < distancia[i]:\n",
        "                        distancia[i] = distancia[u] + fin[u][i]\n",
        "                        padre[i] = u\n",
        "\n",
        "        return distancia"
      ],
      "execution_count": null,
      "outputs": []
    },
    {
      "cell_type": "markdown",
      "metadata": {
        "collapsed": false,
        "id": "4u93Ytzpwojd"
      },
      "source": [
        "### Test del algoritmo Dijkstra"
      ]
    },
    {
      "cell_type": "markdown",
      "metadata": {
        "collapsed": false,
        "id": "GFaEGKC4woje"
      },
      "source": [
        "Corriendo en el tiempo algoritmos.. Shortest path (dijsktra)\n",
        "\n",
        "instancia    tiempo   \n",
        "  0           0.00137209892273    \n",
        "  1           0.00149703025818    \n",
        "  2           0.00153589248657    \n",
        "  3           0.00185513496399    \n",
        "  4           0.00264286994934    \n",
        "  5           0.00820803642273    \n",
        "  6           0.00355410575867    \n",
        "  7           0.00439405441284    \n",
        "  8           0.00429606437683    \n"
      ]
    },
    {
      "cell_type": "code",
      "metadata": {
        "pycharm": {
          "name": "#%%\n"
        },
        "id": "sAi4CPjjwoje",
        "colab": {
          "base_uri": "https://localhost:8080/",
          "height": 279
        },
        "outputId": "3239471f-c24e-4198-b6d2-f58ef241e8cd"
      },
      "source": [
        "tiempos=[0.00137209892273,0.00149703025818,0.00153589248657,0.00185513496399,0.00264286994934,0.00820803642273,0.00355410575867,0.00439405441284,0.00429606437683]\n",
        "\n",
        "import matplotlib.pyplot as plt\n",
        "plt.plot(tiempos)\n",
        "plt.ylabel('tiempos')\n",
        "plt.xlabel('nodos')\n",
        "plt.show()"
      ],
      "execution_count": null,
      "outputs": [
        {
          "output_type": "display_data",
          "data": {
            "image/png": "[encoded data removed]",
            "text/plain": [
              "<Figure size 432x288 with 1 Axes>"
            ]
          },
          "metadata": {
            "tags": [],
            "needs_background": "light"
          }
        }
      ]
    },
    {
      "cell_type": "markdown",
      "metadata": {
        "id": "YBeurxfHzfLR"
      },
      "source": [
        "\n",
        "---\n",
        "\n",
        "##Conclusiones\n",
        "- Se observa que el algoritmo no necesita recorrer todos los caminos posibles para hallar la mejor opción. Por ello, se infiere que la complejidad de este algotimo es $O(Log n)$ donde n es el número de veces que ha recorrido el grafo para obtener el camino más optimo.\n",
        "\n",
        "- El algoritmo Disjktra fue el que más tiempo de ejecución ha tomado, en las pruebas cuando aumentan los nodos / entradas / tamaño del tablero, se hace ineficiente respecto al tiempo.\n",
        "\n",
        "- El algoritmo BFS es el que encuentra el camino más corto y siempre está en constante búsqueda durante la ejecución del juego.\n",
        "\n",
        "- El algoritmo Minimax realiza la elección del mejor movimiento para\n",
        "cada jugador, suponiendo que el competidor escogerá el peor aunque tiene como desventaja que es un poco lento en su tiempo de respuesta cuando se han colocado paredes por el oponente, ya que va creando subárboles por turno (realiza una búsqueda en profundidad completa).\n",
        "\n",
        "- Dentro de este último algoritmo mencionado, el maximizador busca movimientos que lo conduzcan al mayor número positivo. y el minimizador busca movimientos que lo conduzcan al menor número negativo.\n",
        "\n",
        "- Se observó que si aumenta el tamaño del tablero, también aumenta el tiempo en ejecución, y va creciendo de manera exponencial.\n"
      ]
    },
    {
      "cell_type": "markdown",
      "metadata": {
        "id": "Fxh6tOhdwoji"
      },
      "source": [
        "---\n",
        "\n",
        "\n",
        "## ANEXOS\n",
        "\n",
        "<B>LINK REPOSITORIO GITHUB: https://github.com/vivieall/Quoridor-CA </B>\n",
        "\n",
        "\n",
        "\n",
        "## Tecnología usada\n",
        "\n",
        "PYTHON 3.8 (ÚLTIMA VERSIÓN ESTABLE)\n",
        "![alt text](https://cdn.computerhoy.com/sites/navi.axelspringer.es/public/styles/1200/public/media/image/2019/06/python.jpg?itok=QLluqh-d)\n",
        "\n",
        "LIBRERÍA TKINTER\n",
        "![alt text](https://cdn.educba.com/academy/wp-content/uploads/2020/02/Python-Tkinter.jpg)\n",
        "\n",
        "IDLE\n",
        "![alt text](https://www.teahub.io/photos/full/88-884134_jetbrains-pycharm-professional-2019.png)\n",
        "\n",
        "## HERRAMIENTAS ADICIONALES\n",
        "JUPYTER NOTEBOOK\n",
        "![alt text](https://www.freecodecamp.org/news/content/images/size/w2000/2019/08/1_m87_Htb_9Pstq0UcvNJ49w.png)\n",
        "\n",
        "GITHUB\n",
        "![alt text](https://www.solucionespm.com/wp-content/uploads/2018/11/GitHub.png)\n",
        "\n",
        "MICROSOFT TEAMS\n",
        "![alt text](https://i.ytimg.com/vi/HCPxFy6k61s/maxresdefault.jpg)\n",
        "\n",
        "\n",
        "\n",
        "## BIBLIOGRAFÍA O REFERENCIAS\n",
        "\n",
        ">Banerjee, N. y Sankardeep R . (2016). Improved Space Efficient Algorithms for BFS, DFS and Applications.\n",
        "\n",
        ">Nam, N. (2012). Quoridor complete Tutorial. https://youtu.be/KcuBheYqdjs\n",
        "\n",
        ">Pedraza, L., López, D., & Salcedo Con-Ciencias, O. (n.d.). Retrieved September 20, 2020, from http://www.scielo.org.co/pdf/tecn/v15n30/v15n30a10.pdf\n",
        "\n",
        ">Quoridor Post | Juegos de mesa, juegos de estrategia y puzzles en Madrid | Cuarto de Juegos. (2010). https://www.cuartodejuegos.es/index.php/quoridor/\n",
        "\n",
        ">Quoridor. (2010). Los Diccionarios y Las Enciclopedias Sobre El Académico. https://esacademic.com/dic.nsf/eswiki/978850\n"
      ]
    }
  ]
}